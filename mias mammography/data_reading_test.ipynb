{
 "cells": [
  {
   "cell_type": "code",
   "execution_count": 11,
   "metadata": {},
   "outputs": [
    {
     "name": "stdout",
     "output_type": "stream",
     "text": [
      "b'              MAMMOGRAPHIC IMAGE ANALYSIS SOCIETY\\n                  MiniMammographic Database\\n\\n\\n\\nThank you for downloading the MIAS MiniMammographic Database. By\\npopular request the original MIAS Database (digitised at 50 micron\\npixel edge) has been reduced to 200 micron pixel edge and \\nclipped/padded so that every image is 1024 pixels x 1024 pixels.\\n\\nFeel free to use the database in any of your scientific research, \\nbut please read the licence agreement first (Licence.txt).\\n\\nIf you have have any questions/comments about the data or would like \\ninformation on how to get the original MIAS Database please contact \\nme at the address below. You will be put on a mailing list for further \\ninformation about any upgrades of this database. See also our WWW-page \\nat http://skye.icr.ac.uk/miasdb/miasdb.html for updated information.\\n\\nJohn Suckling\\nDepartment of Physics\\nRoyal Marsden Hospital\\nFulham Road, London.\\nSW3 6JJ, UK.\\n\\nEmail: j.suckling@rmh_lon.icr.ac.uk\\n                       \\n19 January 1995                          \\n=================================================================\\n\\nCREDITS:\\n\\nOrganiser: J Suckling\\n\\nTruth-Data: C R M Boggis and I Hutt\\n\\nCo-Workers: S Astley, D Betal, N Cerneaz, D R Dance, S-L Kok, J Parker, \\n            I Ricketts, J Savage, E Stamatakis and P Taylor.\\n \\nSpecial Thanks: N Karrsemeijer.\\n\\nPilot European Image Processing Archive (PEIPA) Orgainser: A Clark. \\n \\n=================================================================\\n\\nREFERENCE:\\n\\nJ Suckling et al (1994) \"The Mammographic Image Analysis Society Digital\\nMammogram Database\" Exerpta Medica. International Congress Series\\n1069 pp375-378.\\n\\n=================================================================\\n\\nINFORMATION:\\n\\nThis file lists the films in the MIAS database and provides     \\nappropriate details as follows:\\n\\n1st column: MIAS database reference number.\\n\\n2nd column: Character of background tissue: \\n                F - Fatty \\n                G - Fatty-glandular\\n                D - Dense-glandular\\n\\n3rd column: Class of abnormality present:\\n                CALC - Calcification\\n                CIRC - Well-defined/circumscribed masses\\n                SPIC - Spiculated masses\\n                MISC - Other, ill-defined masses\\n                ARCH - Architectural distortion\\n                ASYM - Asymmetry\\n                NORM - Normal\\n\\n4th column: Severity of abnormality;\\n                B - Benign\\n                M - Malignant\\n                \\n5th,6th columns: x,y image-coordinates of centre of abnormality.\\n\\n7th column: Approximate radius (in pixels) of a circle enclosing\\n\\t    the abnormality.\\n\\t    \\nNOTES\\n=====\\n1) The list is arranged in pairs of films, where each pair \\n   represents the left (even filename numbers) and right mammograms\\n   (odd filename numbers) of a single patient.\\n   \\n2) The size of ALL the images is 1024 pixels x 1024 pixels. The images\\n   have been centered in the matrix.  \\n\\n3) When calcifications are present, centre locations and radii \\n   apply to clusters rather than individual calcifications.\\n   Coordinate system origin is the bottom-left corner.\\n\\n4) In some cases calcifications are widely distributed throughout\\n   the image rather than concentrated at a single site. In these\\n   cases centre locations and radii are inappropriate and have\\n   been omitted.\\n\\n=================================================================\\n\\nmdb001 G CIRC B 535 425 197\\nmdb002 G CIRC B 522 280 69\\nmdb003 D NORM \\nmdb004 D NORM \\nmdb005 F CIRC B 477 133 30\\nmdb005 F CIRC B 500 168 26\\nmdb006 F NORM \\nmdb007 G NORM \\nmdb008 G NORM \\nmdb009 F NORM \\nmdb010 F CIRC B 525 425 33\\nmdb011 F NORM \\nmdb012 F CIRC B 471 458 40\\nmdb013 G MISC B 667 365 31\\nmdb014 G NORM \\nmdb015 G CIRC B 595 864 68\\nmdb016 G NORM \\nmdb017 G CIRC B 547 573 48\\nmdb018 G NORM \\nmdb019 G CIRC B 653 477 49\\nmdb020 G NORM \\nmdb021 G CIRC B 493 125 49\\nmdb022 G NORM \\nmdb023 G CIRC M 538 681 29\\nmdb024 G NORM \\nmdb025 F CIRC B 674 443 79\\nmdb026 F NORM \\nmdb027 F NORM \\nmdb028 F CIRC M 338 314 56\\nmdb029 G NORM \\nmdb030 G MISC B 322 676 43\\nmdb031 G NORM \\nmdb032 G MISC B 388 742 66\\nmdb033 D NORM \\nmdb034 D NORM \\nmdb035 D NORM \\nmdb036 D NORM \\nmdb037 D NORM \\nmdb038 D NORM \\nmdb039 D NORM \\nmdb040 D NORM \\nmdb041 G NORM \\nmdb042 G NORM \\nmdb043 G NORM \\nmdb044 G NORM \\nmdb045 G NORM \\nmdb046 G NORM \\nmdb047 G NORM \\nmdb048 G NORM \\nmdb049 G NORM \\nmdb050 G NORM \\nmdb051 G NORM \\nmdb052 G NORM \\nmdb053 D NORM \\nmdb054 D NORM \\nmdb055 G NORM \\nmdb056 G NORM \\nmdb057 D NORM \\nmdb058 D MISC M 318 359 27\\nmdb059 F CIRC B\\nmdb060 F NORM \\nmdb061 D NORM \\nmdb062 D NORM \\nmdb063 D MISC B 546 463 33\\nmdb064 D NORM \\nmdb065 D NORM \\nmdb066 D NORM \\nmdb067 D NORM \\nmdb068 D NORM \\nmdb069 F CIRC B 462 406 44\\nmdb070 F NORM \\nmdb071 G NORM \\nmdb072 G ASYM M 266 517 28\\nmdb073 G NORM \\nmdb074 G NORM \\nmdb075 F ASYM M 468 717 23\\nmdb076 F NORM \\nmdb077 F NORM \\nmdb078 F NORM \\nmdb079 F NORM \\nmdb080 F CIRC B 432 149 20\\nmdb081 G ASYM B 492 473 131\\nmdb082 G NORM \\nmdb083 G ASYM B 544 194 38\\nmdb084 G NORM \\nmdb085 G NORM \\nmdb086 G NORM \\nmdb087 F NORM \\nmdb088 F NORM \\nmdb089 G NORM \\nmdb090 G ASYM M 510 547 49\\nmdb091 F CIRC B 680 494 20\\nmdb092 F ASYM M 423 662 43\\nmdb093 G NORM \\nmdb094 G NORM \\nmdb095 F ASYM M 466 517 29\\nmdb096 F NORM \\nmdb097 F ASYM B 612 297 34\\nmdb098 F NORM \\nmdb099 D ASYM B 714 340 23\\nmdb100 D NORM \\nmdb101 D NORM \\nmdb102 D ASYM M 415 460 38\\nmdb103 D NORM \\nmdb104 D ASYM B 357 365 50\\nmdb105 D ASYM M 516 279 98\\nmdb106 D NORM \\nmdb107 D ASYM B 600 621 111\\nmdb108 D NORM \\nmdb109 D NORM \\nmdb110 D ASYM M 190 427 51\\nmdb111 D ASYM M 505 575 107\\nmdb112 D NORM \\nmdb113 G NORM \\nmdb114 G NORM \\nmdb115 G ARCH M 461 532 117\\nmdb116 G NORM \\nmdb117 G ARCH M 480 576 84\\nmdb118 G NORM \\nmdb119 G NORM \\nmdb120 G ARCH M 423 262 79\\nmdb121 G ARCH B 492 434 87\\nmdb122 G NORM \\nmdb123 G NORM \\nmdb124 G ARCH M 366 620 33\\nmdb125 D ARCH M 700 552 60\\nmdb126 D ARCH B 191 549 23\\nmdb127 G ARCH B 523 551 48\\nmdb128 G NORM \\nmdb129 D NORM \\nmdb130 D ARCH M 220 552 28\\nmdb131 F NORM \\nmdb132 F CIRC B 252 788 52\\nmdb132 F CIRC B 335 766 18\\nmdb133 F NORM \\nmdb134 F MISC M 469 728 49\\nmdb135 F NORM \\nmdb136 F NORM \\nmdb137 D NORM \\nmdb138 D NORM \\nmdb139 F NORM \\nmdb140 F NORM \\nmdb141 F CIRC M 470 759 29\\nmdb142 F CIRC B 347 636 26\\nmdb143 F NORM \\nmdb144 F MISC B 233 994 29\\nmdb144 F MISC M 313 540 27\\nmdb145 D SPIC B 669 543 49\\nmdb146 D NORM \\nmdb147 F NORM \\nmdb148 F SPIC M 326 607 174\\nmdb149 F NORM \\nmdb150 F ARCH B 351 661 62\\nmdb151 F NORM \\nmdb152 F ARCH B 675 486 48\\nmdb153 F NORM \\nmdb154 F NORM \\nmdb155 F ARCH M 448 480 95\\nmdb156 F NORM \\nmdb157 F NORM \\nmdb158 F ARCH M 540 565 88\\nmdb159 F NORM \\nmdb160 F ARCH B 536 519 61\\nmdb161 D NORM \\nmdb162 D NORM \\nmdb163 D ARCH B 391 365 50\\nmdb164 D NORM \\nmdb165 D ARCH B 537 490 42\\nmdb166 D NORM \\nmdb167 F ARCH B 574 657 35\\nmdb168 F NORM \\nmdb169 D NORM \\nmdb170 D ARCH M 489 480 82\\nmdb171 D ARCH M 462 627 62\\nmdb172 D NORM \\nmdb173 F NORM \\nmdb174 F NORM \\nmdb175 G SPIC B 592 670 33\\nmdb176 G NORM \\nmdb177 G NORM \\nmdb178 G SPIC M 492 600 70\\nmdb179 D SPIC M 600 514 67\\nmdb180 D NORM \\nmdb181 G SPIC M 519 362 54\\nmdb182 G NORM \\nmdb183 F NORM \\nmdb184 F SPIC M 352 624 114\\nmdb185 G NORM \\nmdb186 G SPIC M 403 524 47\\nmdb187 G NORM \\nmdb188 G SPIC B 406 617 61\\nmdb189 G NORM \\nmdb190 G SPIC B 512 621 31\\nmdb191 G SPIC B 594 516 41\\nmdb192 G NORM \\nmdb193 D SPIC B 399 563 132\\nmdb194 D NORM \\nmdb195 F SPIC B 725 129 26\\nmdb196 F NORM \\nmdb197 D NORM \\nmdb198 D SPIC B 568 612 93\\nmdb199 D SPIC B 641 177 31\\nmdb200 D NORM \\nmdb201 D NORM \\nmdb202 D SPIC M 557 772 37\\nmdb203 F NORM \\nmdb204 F SPIC B 336 399 21\\nmdb205 F NORM \\nmdb206 F SPIC M 368 200 17\\nmdb207 D SPIC B 571 564 19\\nmdb208 D NORM \\nmdb209 G CALC M 647 503 87\\nmdb210 G NORM \\nmdb211 G CALC M 680 327 13\\nmdb212 G CALC B 687 882 3\\nmdb213 G CALC M 547 520 45\\nmdb214 G CALC B 582 916 11\\nmdb215 D NORM \\nmdb216 D CALC M *NOTE 3* \\nmdb217 G NORM \\nmdb218 G CALC B 519 629 8\\nmdb219 G CALC B 546 756 29\\nmdb220 G NORM \\nmdb221 D NORM \\nmdb222 D CALC B 398 427 17\\nmdb223 D CALC B 523 482 29\\nmdb223 D CALC B 591 529 6\\nmdb224 D NORM \\nmdb225 D NORM \\nmdb226 D CALC B 287 610 7\\nmdb226 D CALC B 329 550 25\\nmdb226 D CALC B 531 721 8\\nmdb227 G CALC B 504 467 9\\nmdb228 G NORM \\nmdb229 F NORM \\nmdb230 F NORM \\nmdb231 F CALC M 603 538 44\\nmdb232 F NORM \\nmdb233 G CALC M *NOTE 3*\\nmdb234 G NORM \\nmdb235 D NORM \\nmdb236 D CALC B 276 824 14\\nmdb237 F NORM \\nmdb238 F CALC M 522 553 17\\nmdb239 D CALC M 645 755 40\\nmdb239 D CALC M 567 808 25\\nmdb240 D CALC B 643 614 23\\nmdb241 D CALC M 453 678 38\\nmdb242 D NORM \\nmdb243 D NORM \\nmdb244 D CIRC B 466 567 52\\nmdb245 F CALC M *NOTE 3*\\nmdb246 F NORM \\nmdb247 F NORM \\nmdb248 F CALC B 378 601 10\\nmdb249 D CALC M 544 508 48\\nmdb249 D CALC M 575 639 64\\nmdb250 D NORM \\nmdb251 F NORM \\nmdb252 F CALC B 439 367 23\\nmdb253 D CALC M 733 564 28\\nmdb254 D NORM \\nmdb255 F NORM \\nmdb256 F CALC M 400 484 37\\nmdb257 D NORM \\nmdb258 D NORM \\nmdb259 D NORM \\nmdb260 D NORM \\nmdb261 D NORM \\nmdb262 D NORM \\nmdb263 G NORM \\nmdb264 G MISC M 596 431 36\\nmdb265 G MISC M 593 498 60\\nmdb266 G NORM \\nmdb267 F MISC M 793 481 56\\nmdb268 F NORM \\nmdb269 G NORM \\nmdb270 G CIRC M 356 945 72\\nmdb271 F MISC M 784 270 68\\nmdb272 F NORM \\nmdb273 F NORM \\nmdb274 F MISC M 127 505 123\\nmdb275 G NORM \\nmdb276 G NORM \\nmdb277 G NORM \\nmdb278 G NORM \\nmdb279 G NORM \\nmdb280 G NORM \\nmdb281 D NORM \\nmdb282 D NORM \\nmdb283 D NORM \\nmdb284 D NORM \\nmdb285 D NORM \\nmdb286 D NORM \\nmdb287 D NORM \\nmdb288 D NORM \\nmdb289 D NORM \\nmdb290 D CIRC B 337 353 45\\nmdb291 G NORM \\nmdb292 G NORM \\nmdb293 F NORM \\nmdb294 F NORM \\nmdb295 D NORM \\nmdb296 D NORM \\nmdb297 F NORM \\nmdb298 F NORM \\nmdb299 F NORM \\nmdb300 F NORM \\nmdb301 F NORM \\nmdb302 F NORM \\nmdb303 F NORM \\nmdb304 F NORM \\nmdb305 F NORM \\nmdb306 F NORM \\nmdb307 F NORM \\nmdb308 F NORM \\nmdb309 F NORM \\nmdb310 F NORM \\nmdb311 F NORM \\nmdb312 F MISC B 240 263 20\\nmdb313 F NORM \\nmdb314 F MISC B 518 191 39\\nmdb315 D CIRC B 516 447 93\\nmdb316 D NORM \\nmdb317 D NORM \\nmdb318 D NORM \\nmdb319 D NORM \\nmdb320 D NORM \\nmdb321 D NORM \\nmdb322 D NORM \\n\\n=================================================================\\n'\n"
     ]
    }
   ],
   "source": [
    "import tarfile\n",
    "import numpy as np\n",
    "\n",
    "\n",
    "tar = tarfile.open(\"data\\\\all-mias.tar.gz\", \"r:gz\")\n",
    "for member in tar.getmembers():\n",
    "     f = tar.extractfile(member)\n",
    "     if f is not None:\n",
    "         content = f.read()\n",
    "         print(content)\n",
    "         break\n",
    "\n",
    "tar.close()"
   ]
  },
  {
   "cell_type": "code",
   "execution_count": 5,
   "metadata": {},
   "outputs": [
    {
     "data": {
      "text/plain": [
       "'d:\\\\Users\\\\yhuangde\\\\Documents\\\\GitHub\\\\Cancer-Research-Data-Science\\\\mias mammography'"
      ]
     },
     "execution_count": 5,
     "metadata": {},
     "output_type": "execute_result"
    }
   ],
   "source": [
    "pwd"
   ]
  },
  {
   "cell_type": "code",
   "execution_count": null,
   "metadata": {},
   "outputs": [],
   "source": []
  }
 ],
 "metadata": {
  "kernelspec": {
   "display_name": "Python 3",
   "language": "python",
   "name": "python3"
  },
  "language_info": {
   "codemirror_mode": {
    "name": "ipython",
    "version": 3
   },
   "file_extension": ".py",
   "mimetype": "text/x-python",
   "name": "python",
   "nbconvert_exporter": "python",
   "pygments_lexer": "ipython3",
   "version": "3.6.5"
  }
 },
 "nbformat": 4,
 "nbformat_minor": 2
}
